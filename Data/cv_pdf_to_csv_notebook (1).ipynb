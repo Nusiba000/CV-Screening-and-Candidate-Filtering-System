{
 "cells": [
  {
   "cell_type": "markdown",
   "id": "3061be9f",
   "metadata": {},
   "source": [
    "\n",
    "# 📓 CV PDF → CSV Extraction (Tutorial Version)\n",
    "\n",
    "This notebook extracts structured information from **your 3 CV PDFs** and saves the results into a single CSV.  \n",
    "It uses **pdfplumber** (no OCR) and includes enhanced parsing logic for LinkedIn/GitHub mentions that **don't** include full URLs.\n",
    "\n",
    "**Output columns:**  \n",
    "`[\"file_name\",\"name\",\"email\",\"phone\",\"linkedin\",\"github\",\"portfolio\",\"other_links\",\"raw_text\"]`\n"
   ]
  },
  {
   "cell_type": "markdown",
   "id": "92260049",
   "metadata": {},
   "source": [
    "## 1) Install & Import Libraries"
   ]
  },
  {
   "cell_type": "code",
   "execution_count": 24,
   "id": "e5f26aae",
   "metadata": {},
   "outputs": [
    {
     "name": "stdout",
     "output_type": "stream",
     "text": [
      "Note: you may need to restart the kernel to use updated packages.\n"
     ]
    }
   ],
   "source": [
    "\n",
    "%pip install -q pdfplumber pandas\n",
    "\n",
    "import re\n",
    "from pathlib import Path\n",
    "import pandas as pd\n",
    "import pdfplumber\n",
    "from IPython.display import display, HTML\n"
   ]
  },
  {
   "cell_type": "markdown",
   "id": "97ee1c25",
   "metadata": {},
   "source": [
    "## 2) Configuration (ONLY your 3 CV PDFs)"
   ]
  },
  {
   "cell_type": "code",
   "execution_count": 25,
   "id": "88de36c9",
   "metadata": {},
   "outputs": [
    {
     "name": "stdout",
     "output_type": "stream",
     "text": [
      "Found 3 CV PDFs: ['Duaa Hilal Al-Hashmi CV 2025.pdf', 'Nusiba_Alnabhani_cv (1).pdf', 'Janna Khalid Al Balushi Resume 14-09-25.pdf']\n"
     ]
    }
   ],
   "source": [
    "from pathlib import Path\n",
    "\n",
    "# 👇 Your local folder\n",
    "INPUT_DIR = Path(r\"C:\\Users\\bbuser\\Downloads\")\n",
    "\n",
    "# 👇 Your CV filenames\n",
    "PDF_FILES = [\n",
    "    \"Duaa Hilal Al-Hashmi CV 2025.pdf\",\n",
    "    \"Nusiba_Alnabhani_cv (1).pdf\",\n",
    "    \"Janna Khalid Al Balushi Resume 14-09-25.pdf\",\n",
    "]\n",
    "\n",
    "pdfs = [INPUT_DIR / f for f in PDF_FILES if (INPUT_DIR / f).exists()]\n",
    "print(f\"Found {len(pdfs)} CV PDFs:\", [p.name for p in pdfs])\n",
    "\n",
    "\n",
    "# Output CSV path\n",
    "OUTPUT_CSV = str(INPUT_DIR / \"cv_data_extracted_final.csv\")\n",
    "\n",
    "# Options\n",
    "SAVE_RAW_TEXT = True\n",
    "VERBOSE = True\n"
   ]
  },
  {
   "cell_type": "markdown",
   "id": "af2a812a",
   "metadata": {},
   "source": [
    "## 3) Helper Functions (regex + extractors)"
   ]
  },
  {
   "cell_type": "code",
   "execution_count": 26,
   "id": "421e8e6c",
   "metadata": {},
   "outputs": [],
   "source": [
    "# Regex patterns\n",
    "EMAIL_RE = re.compile(r\"\\b[A-Za-z0-9._%+-]+@[A-Za-z0-9.-]+\\.[A-Za-z]{2,}\\b\")\n",
    "PHONE_RE = re.compile(r\"\"\"\n",
    "    (?<!\\w)(?:\\+?\\d{1,3}[\\s\\-\\.]?)?(?:\\(?\\d{2,4}\\)?[\\s\\-\\.]?)\\d{3,4}[\\s\\-\\.]?\\d{3,4}(?!\\w)\n",
    "\"\"\", re.VERBOSE)\n",
    "LINK_RE = re.compile(r\"https?://[^\\s\\)\\]]+\", re.IGNORECASE)\n",
    "\n",
    "def clean_line(s: str) -> str:\n",
    "    return re.sub(r\"\\s+\", \" \", s).strip()\n",
    "\n",
    "def extract_text_from_pdf(path: str) -> str:\n",
    "    \"\"\"Extract text using pdfplumber (robust for typical CV formatting).\"\"\"\n",
    "    text = \"\"\n",
    "    with pdfplumber.open(path) as pdf:\n",
    "        for page in pdf.pages:\n",
    "            page_text = page.extract_text() or \"\"\n",
    "            text += page_text + \"\\n\"\n",
    "    return text\n",
    "\n",
    "def guess_name_from_top(text: str, max_chars: int = 80) -> str:\n",
    "    \"\"\"Heuristic to guess full name from the top section of the CV.\"\"\"\n",
    "    lines = [clean_line(x) for x in text.splitlines() if clean_line(x)]\n",
    "    for line in lines[:15]:\n",
    "        if len(line) > max_chars:\n",
    "            continue\n",
    "        if EMAIL_RE.search(line) or LINK_RE.search(line) or PHONE_RE.search(line):\n",
    "            continue\n",
    "        # All-caps header like \"DUAA HILAL AL-HASHMI\"\n",
    "        if line.isupper() and 1 <= len(line.split()) <= 5:\n",
    "            return line.title()\n",
    "        # Mostly letters & reasonable number of words\n",
    "        letters_ratio = sum(ch.isalpha() or ch in \" -.\\'’\" for ch in line) / max(1, len(line))\n",
    "        words = line.split()\n",
    "        if letters_ratio > 0.8 and 1 <= len(words) <= 5:\n",
    "            return \" \".join(w.capitalize() for w in words)\n",
    "    return \"\"\n",
    "\n",
    "def extract_linkedin(text: str, links: list[str]) -> str:\n",
    "    # Prefer actual URLs first\n",
    "    for l in links:\n",
    "        if \"linkedin.com\" in l.lower():\n",
    "            return l.strip()\n",
    "    # Then pattern-based username capture\n",
    "    m = re.search(r\"(?i)linkedin\\s*[:\\-]?\\s*([A-Za-z0-9\\-\\_\\/\\.]+)\", text)\n",
    "    if m:\n",
    "        username = m.group(1).strip().strip('.').strip('/')\n",
    "        if not username.startswith(\"http\"):\n",
    "            return f\"https://www.linkedin.com/in/{username}\"\n",
    "    # If explicitly says LinkedIn Profile but no link\n",
    "    if re.search(r\"(?i)linkedin profile\", text):\n",
    "        return \"LinkedIn Profile (no URL found)\"\n",
    "    return \"\"\n",
    "\n",
    "def extract_github(text: str, links: list[str]) -> str:\n",
    "    # Prefer actual URLs first\n",
    "    for l in links:\n",
    "        if \"github.com\" in l.lower():\n",
    "            return l.strip()\n",
    "    # Then pattern-based username capture\n",
    "    m = re.search(r\"(?i)github\\s*[:\\-]?\\s*([A-Za-z0-9\\-\\_\\/\\.]+)\", text)\n",
    "    if m:\n",
    "        username = m.group(1).strip().strip('.').strip('/')\n",
    "        if not username.startswith(\"http\"):\n",
    "            return f\"https://github.com/{username}\"\n",
    "    # If explicitly says GitHub Profile but no link\n",
    "    if re.search(r\"(?i)github profile\", text):\n",
    "        return \"GitHub Profile (no URL found)\"\n",
    "    return \"\"\n"
   ]
  },
  {
   "cell_type": "markdown",
   "id": "0f2c28f1",
   "metadata": {},
   "source": [
    "## 4) Sanity Check: Preview one CV's raw text (first 800 chars)"
   ]
  },
  {
   "cell_type": "code",
   "execution_count": 27,
   "id": "4d610555",
   "metadata": {},
   "outputs": [
    {
     "name": "stdout",
     "output_type": "stream",
     "text": [
      "Duaa Hilal Al-Hashmi\n",
      "Al Batinah North | P: +968 91799668 | Duaahil44@gmail.com\n",
      "EDUCATION\n",
      "CODELINE\n",
      "Data Science\n",
      "Graduation Date: October 2025\n",
      "SAUDI DIGITAL ACADEMY\n",
      "FullStack Java Web Development Bootcamp\n",
      "Graduation Date: December 2023\n",
      "UNIVERSITY OF TECHNOLOGY AND APPLIED SCIENCES\n",
      "Bachelor of Electronics and Telecommunications Engineering\n",
      "Cumulative GPA: 3.2/4.0, Graduation Date: August 2022\n",
      "EXPERIENCE\n",
      "Telecommunications Regulatory Authority.\n",
      "Muscat —Internship\n",
      "● Completed the Nafath Training Program, acquiring expertise in programming languages (Java, JavaScript, Python, SQL),\n",
      "frameworks (Spring Boot, Swagger-UI, Angular), and software design principles (RESTful APIs, SOLID)\n",
      "● Applied skills in debugging tools (Postman, IntelliJ Debugger), IDEs (IntelliJ IDEA, Visual Studio Code), and compr\n"
     ]
    }
   ],
   "source": [
    "\n",
    "if pdfs:\n",
    "    sample_text = extract_text_from_pdf(str(pdfs[0]))\n",
    "    print(sample_text[:800])\n",
    "else:\n",
    "    print(\"No CV PDFs found. Check filenames and INPUT_DIR.\")\n"
   ]
  },
  {
   "cell_type": "markdown",
   "id": "529390dd",
   "metadata": {},
   "source": [
    "## 5) Extract Data From All 3 CV PDFs"
   ]
  },
  {
   "cell_type": "code",
   "execution_count": 28,
   "id": "818b9c41",
   "metadata": {},
   "outputs": [
    {
     "name": "stderr",
     "output_type": "stream",
     "text": [
      "Could get FontBBox from font descriptor because None cannot be parsed as 4 floats\n"
     ]
    },
    {
     "name": "stdout",
     "output_type": "stream",
     "text": [
      "Extracted 3 row(s).\n"
     ]
    },
    {
     "data": {
      "text/html": [
       "<div>\n",
       "<style scoped>\n",
       "    .dataframe tbody tr th:only-of-type {\n",
       "        vertical-align: middle;\n",
       "    }\n",
       "\n",
       "    .dataframe tbody tr th {\n",
       "        vertical-align: top;\n",
       "    }\n",
       "\n",
       "    .dataframe thead th {\n",
       "        text-align: right;\n",
       "    }\n",
       "</style>\n",
       "<table border=\"1\" class=\"dataframe\">\n",
       "  <thead>\n",
       "    <tr style=\"text-align: right;\">\n",
       "      <th></th>\n",
       "      <th>file_name</th>\n",
       "      <th>name</th>\n",
       "      <th>email</th>\n",
       "      <th>phone</th>\n",
       "      <th>linkedin</th>\n",
       "      <th>github</th>\n",
       "      <th>portfolio</th>\n",
       "      <th>other_links</th>\n",
       "      <th>raw_text</th>\n",
       "    </tr>\n",
       "  </thead>\n",
       "  <tbody>\n",
       "    <tr>\n",
       "      <th>0</th>\n",
       "      <td>Duaa Hilal Al-Hashmi CV 2025.pdf</td>\n",
       "      <td>Duaa Hilal Al-hashmi</td>\n",
       "      <td>Duaahil44@gmail.com</td>\n",
       "      <td>+968 91799668</td>\n",
       "      <td></td>\n",
       "      <td>https://github.com/Duaa3/Hotel-Managements-Project-Frontend</td>\n",
       "      <td></td>\n",
       "      <td>https://github.com/Duaa3/Hotel-Managements-Project-Backend-; https://www.researchgate.net/publication/369452982_Date_fruit_classification_and_sorting_system_using_Artificial_; https://ijrar.org/viewfulltext.php?&amp;p_id=IJRAR21D2332</td>\n",
       "      <td>Duaa Hilal Al-Hashmi\\nAl Batinah North | P: +968 91799668 | Duaahil44@gmail.com\\nEDUCATION\\nCODELINE\\nData Science\\nGraduation Date: October 2025\\nSAUDI DIGITAL ACADEMY\\nFullStack Java Web Development Bootcamp\\nGraduation Date: December 2023\\nUNIVERSITY OF TECHNOLOGY AND APPLIED SCIENCES\\nBachelor of Electronics and Telecommunications Engineering\\nCumulative GPA: 3.2/4.0, Graduation Date: August 2022\\nEXPERIENCE\\nTelecommunications Regulatory Authority.\\nMuscat —Internship\\n● Completed the Nafath Training Program, acquiring expertise in programming languages (Java, JavaScript, Python, SQL),\\nframeworks (Spring Boot, Swagger-UI, Angular), and software design principles (RESTful APIs, SOLID)\\n● Applied skills in debugging tools (Postman, IntelliJ Debugger), IDEs (IntelliJ IDEA, Visual Studio Code), and comprehensive\\nconcepts (authentication, network protocols, web security) within a structured 3-tier application framework\\n● Gained experience in version control systems such as Git and GitHub for collaborative code management, adeptly employing\\nAgile methodologies like Scrum, Trello, and Slack for efficient project organization and communication\\nUNIVERSITY OF TECHNOLOGY AND APPLIED SCIENCES\\nAl Musanna— Research Assistant\\nNovember 2021- August 2022\\n● Drove the design and development of an IoT-based system for post-harvest data collection in Oman\\n● Implemented image processing and AI techniques; successful collaboration with a diverse team of researchers improved the\\nsystem, contributing to socioeconomic development\\n● Played an integral role in co-authoring and publishing two highly impactful research papers\\nSAID BIN SULTAN NAVAL BASE, ROYAL NAVY OF OMAN\\nAl Musanna —Internship\\nJune 2022- July 2022\\n● Engaged in a comprehensive 40-day internship at Said Bin Sultan Naval Base, providing input and contributing to\\nworkshops aimed at enhancing health and safety practices\\n● Optimized radar systems, improving intercom efficiency, advancing ESM and ECM capabilities\\n● Streamlined external communication protocols, enhanced network, and software performance implemented PCB\\nenhancements, refined naval calibration procedures, and drove innovation in underwater systems\\nPROJECTS\\nSMART OFFICE PLANNER\\nJuly 2025\\n● Hybrid‑work optimization prototype: rule‑based + ML scheduling, seat‑map visualization, capacity limits, preference\\nmatching.\\n● Built with Python, Streamlit UI, FastAPI services, and Supabase/Postgres; included simple auth and CRUD.\\nHOTEL MANAGEMENT SYSTEM\\nNovember 2023\\n● Engineered and deployed a robust RESTful API for a Hotel Management System, elevating data retrieval and processing\\nefficiency by 50% for enhanced user experience and system performance\\n● Enabled seamless hotel and room creation, guest registration, reservation booking, and staff management, fostering a 30%\\nimprovement in operational efficiency\\n● Leveraged Java, Spring Boot, Spring Security, and MySQL for system development, resulting in a 20% decrease in feature\\ndevelopment time and quicker deployment\\n● GitHub Repository For the Frontend: Link: https://github.com/Duaa3/Hotel-Managements-Project-Frontend\\n● GitHub Repository For the Backend: Link: https://github.com/Duaa3/Hotel-Managements-Project-Backend-\\nDEEP LEARNING BASED DATE FRUIT CLASSIFICATION SYSTEM\\nApril 2022\\n● Collaborated with a team of 3 students to develop a date classification method using teachable machine and MIT App for\\nfruit identification\\n● Implemented JavaScript and deep learning techniques to analyze data from Saudi Arabian and Omani farms, achieving 95%\\naccuracy; enabled data-driven decision-making for optimizing agricultural productivity and resource allocation\\nPUBLICATION\\nRESUME WORDED FINANCE SOCIETY\\nDecember 2022\\n● [Link:https://www.researchgate.net/publication/369452982_Date_fruit_classification_and_sorting_system_using_Artificial_\\nIntelligence_ Application_of_Transfer_Learning]\\nMULTICLASS FRUIT CLASSIFICATION MODEL USING DEEP LEARNING\\nDecember 2021\\n● [Link: https://ijrar.org/viewfulltext.php?&amp;p_id=IJRAR21D2332]\\nADDITIONAL\\nCertifications &amp; Training:\\nAI Empowered Youth Program — Omantel 2025\\nIAIDL Essentials — International AI Driving License (IDEL), 2025\\nHuawei HCIA‑AI Training (Oman), 2025\\nHuawei Advanced Training: (China) AI Internship Professional Practice 2025\\nHCIA — Cloud Computing (2025)\\nAwards:\\nFirst Place — CODELINE Hackathon 2025 (Smart Office Planner)\\nHonor Student, University of Technology &amp; Applied Sciences\\nFirst Prize — Seventh Engineering Week (May 2022), UTAS Al Musanna\\nBEST PAPER — WCASET 2022 (IFERP)\\nTechnical Skills\\n● Programming &amp; Data Science: Python, NumPy, Pandas, scikit-learn, XGBoost, TensorFlow/Keras (foundations),\\nBayesian networks (pgmpy), statistical modeling, class imbalance handling.\\n● Machine Learning &amp; Analytics: Exploratory data analysis (EDA), data cleaning, feature engineering, performance\\nevaluation (Accuracy, F1-score, ROC-AUC, RMSE, MAE, R²).\\n● Computer Vision: OpenCV, image preprocessing and enhancement (histogram equalization, contrast adjustment).\\n● Backend &amp; APIs: FastAPI, Uvicorn, RESTful design, authentication, Supabase (Postgres, storage).\\n● Web Development: Java, Spring Boot, Angular, Bootstrap; full-stack application development with CI practices.\\n● Databases &amp; Data Tools: SQL (PostgreSQL, MySQL), Supabase, web scraping (BeautifulSoup, Selenium).\\n● DevOps &amp; Infrastructure: Docker (containerization), Linux CLI, Git/GitHub version control, basic CI/CD pipelines.\\n● Visualization &amp; Reporting: Matplotlib, Plotly, Jupyter Notebooks, Markdown documentation.\\n● Languages: Fluent in Arabic &amp; English.\\n</td>\n",
       "    </tr>\n",
       "    <tr>\n",
       "      <th>1</th>\n",
       "      <td>Nusiba_Alnabhani_cv (1).pdf</td>\n",
       "      <td>Bachelor’s In Information Security</td>\n",
       "      <td>nusibaalnabhani@gmail.com</td>\n",
       "      <td>+968-98995282</td>\n",
       "      <td>https://www.linkedin.com/in/com/in/nusiba-alnabhani</td>\n",
       "      <td></td>\n",
       "      <td></td>\n",
       "      <td></td>\n",
       "      <td>N U S I B A M U S L I M J U M M A A L N A B H A N I\\nUniversity of Technology and Applied Sciences, 2019-2023\\nBachelor’s in information security\\nMuscat, Oman | +968-98995282 | nusibaalnabhani@gmail.com |linkedin.com/in/nusiba-alnabhani\\nPROFILE\\nInformation Security graduate with hands on training in cybersecurity, data analysis, and artificial intelligence. Experienced\\nin applying technical skills to real world projects, including data preprocessing, network setup, and customer protection\\nservices. Eager to contribute to organizational growth by leveraging technical expertise and practical experience.\\nEXPERIENCES\\nOMANTAL - CODELINE\\nJanuary, 2025 (present)\\nConducted exploratory data analysis (EDA) on datasets with 50k+ entries using Python (Pandas, NumPy, Matplotlib).\\nApplied feature engineering techniques to improve ML model performance by 20%.\\nTrained and evaluated machine learning models using scikit-learn, achieving consistent accuracy improvements.\\nGained hands-on experience in SQL for data manipulation and automation tasks.\\nEXCEED IT SERVICES AND TRAINING COMPANY\\nMarch, 2024 - August, 2024\\nCompleted 6 intensive courses in Artificial Intelligence, Python, NLP, and Computer Vision.\\nBuilt and tested machine learning models on sample datasets, achieving 85% accuracy in classification tasks.\\nApplied Azure ML for model deployment and gained practical experience with real-world AI workflows.\\nTHE PUBLIC AUTHORITY FOR CUSTOMER PROTECTION\\nNovember,2023 - December, 2023\\nDrafted and processed 100+ memos, letters, and official communications.\\nRegistered and tracked 200+ incoming and outgoing documents using archiving systems.\\nDesigned a document classification and retention system to improve record accessibility by 30%.\\nInvestigated and reported on customer complaints, contributing to 10+ resolved cases.\\nCreated press releases and promotional posters using Canva, enhancing media visibility.\\nMINISTY OF INFORMATION\\nJun, 2022 - Jul, 2022\\nSupported IT team in activating Windows licenses and troubleshooting systems.\\nInstalled antivirus software across 50+ devices, improving endpoint security.\\nConnected client and server machines to secure networks, reducing downtime by 15%.\\nPracticed software development concepts using Python, Java, and Flutter.\\nCERTIFICATIONS\\nInternational AI Driving License Certificate, 2025\\nMicrosoft Azure AI Fundamentals (AI-900), 2024\\nScrum Fundamentals Certified, 2024\\nPhotoshop from Scratch Workshop, 2023\\nInternet of Things and its Applications, 2022\\nCyber Security Certified, 2022\\nTECHNICAL SKILLS PERSONAL SKILLS\\nMicrosoft Office Effective communication with cross-functional\\nCisco Packet Tracer teams.\\nLinux (Kali) Report writing and documentation.\\nProgramming Languages: Python, Java Adaptability in fast-paced technical\\nenvironments.\\nData-driven decision making.\\nACHIEVEMENTS\\n“Photoshop from scratch” workshop 2023\\nParticipation in the membership of the Student Advisory Council.\\nParticipate in the activities of the \"Ghaith\" volunteer team.\\nParticipation in the youth leadership camp in October. 2022\\nParticipated in the fifth debate competition organized by the university in October.\\n\"Leaders\" training program organized by the university branch September.\\nParticipation in the Rahal Hackathon for tourism projects, which was implemented by the \"Ghobsha\" team in August.\\nParticipated in the fourth debate club forum in March.\\n\"3D printer\" workshop in February.\\n</td>\n",
       "    </tr>\n",
       "    <tr>\n",
       "      <th>2</th>\n",
       "      <td>Janna Khalid Al Balushi Resume 14-09-25.pdf</td>\n",
       "      <td>Janna Khalid Al Balushi</td>\n",
       "      <td>janna.balushi@outlook.com</td>\n",
       "      <td>+968 79141663</td>\n",
       "      <td>https://www.linkedin.com/in/Profile</td>\n",
       "      <td>https://github.com/Profile</td>\n",
       "      <td></td>\n",
       "      <td></td>\n",
       "      <td>Janna Khalid Al Balushi\\njanna.balushi@outlook.com | +968 79141663 | Oman, Muscat | LinkedIn Profile | GitHub Profile\\nProfessional Summary\\nAspiring Data Scientist with hands-on experience as a Data Analyst on a national project. Passionate about bridging the\\ngap between business needs and technological solutions. My commitment to continuously learning drives me to constantly\\nhone my skills in agile methodologies, data science and AI/ML, empowering me to harness cutting-edge solutions that\\ndrive impactful business outcomes\\nEducational Background\\nBachelor of Technology, Electronics &amp; Telecommunications Engineering 2018 – 2024\\nUniversity of Technology &amp; Applied Sciences (UTAS) Muscat, Oman\\nGPA: 3.13/4\\nCapstone Project: School Bus Security System\\n• Led the team towards achieving projects’ objectives.\\n• Implemented and troubleshooted an IoT-based circuit.\\n• Participated in the Traffic Awareness Week Event organized by the Oman Royal Army.\\nProfessional Experience\\nAI Empowered Youth Associate, Omantel Jan 2025 – Present\\n• Assigned as Scrum Master leading the team in agile scrum practices, facilitating meetings, and enhancing team\\ncollaboration.\\n• Pursuing a comprehensive understanding and application of data science concepts.\\n• Gaining hands-on experience in programming with Python and SQL for data manipulation.\\n• Familiar with the lifecycle of data science, from data collection to model evaluation and deployment.\\n• Conducted data preprocessing and exploratory data analysis (EDA) using Python libraries (Pandas, NumPy, Matplotlib,\\nSeaborn) to clean, transform, and visualize datasets.\\n• Applied feature engineering techniques such as encoding, scaling, and interaction term creation to optimize model\\ninputs and improve performance.\\n• Trained and evaluated machine learning models using scikit-learn.\\nData Leaders Associate, Omantel Academy Jun 2024 – Dec 2024\\n• Proven proficiency in using MS Excel for data analysis.\\n• Developed expertise in data cleansing, data analysis, and data Visualization.\\n• Contributed to The National System for Planning, Monitoring, and Evaluation project in collaboration with General\\nSecretariat of the Council of Minsters and Omantel.\\nPeople Operations Trainee, Omantel Mar 2024 – May 2024\\n• Planned and managed the events that occurred in Omantel.\\n• Communicated and negotiated with business owners/managers to ensure the delivery of high-quality products and\\nservices at optimal cost.\\n• Maintained comprehensive logistics for events, ensuring seamless coordination and execution.\\n• Collaborated with cross-functional teams such as Internal Communications, HQ Experience, and Training to meet the\\nKPIs of the events.\\nProjects\\nThe National System for Planning, Monitoring, and Evaluation July 2024 – April 2025\\nGeneral Secretariat of the Council of Ministers\\n• Conducted comprehensive data analysis and cleansing to enhance data integrity.\\n• Managed and organized data, ensuring accessibility for the team.\\n• Executed efficient conversion of files to required formats to maintain data usability.\\n• Liaised with governmental institutions to facilitate seamless database communication and collaboration.\\n• Evaluated adherence of governmental institutions to required templates, ensuring standards were met.\\nPower BI Dashboard for Waggle Startup, Udacity Dec 2024\\n• Implemented a Power BI report for Waggle, detailed comparisons between Lapcat prototypes and successful Lapdog\\ndevices to assess product viability.\\n• Analyzed data from 1,000 prototypes and then visualized findings to answer executive queries.\\n• Ensured all visuals and graphics in the Power BI report conformed to Waggle's brand guidelines, incorporating official\\ncolor palettes and logos, leading to a cohesive presentation.\\n• Enhanced report usability with interactive slicers and demographic visuals, enabling executives and product teams to\\ncustomize and explore data insights independently.\\nPneumonia Detection Model Using AWS Rekognition AutoML, Udacity Oct 2024\\n• Designed and evaluated multiple machine learning models using AWS Rekognition AutoML to classify pediatric chest\\nX-rays for pneumonia detection.\\n• Built four model variants to analyze the impact of data quality, class imbalance, and label accuracy on model\\nperformance.\\n• Assessed model efficacy using key performance metrics including precision, recall, and confusion matrices across\\nbinary and multiclass classifications.\\n• Conducted experiments with balanced vs. unbalanced datasets and simulated label noise to evaluate real-world data\\nchallenges.\\nCertifications\\nBusiness Intelligence and Data Analyst (BIDA), CFI July 2025\\nData Analysis and Visualization with Power BI, Udacity Apr 2025\\nAI Product Manager, Udacity Nov 2024\\nCertified Scrum Product Owner (CSPO), Scrum Alliance Jul 2024\\nCertified ScrumMaster (CSM), Scrum Alliance Jun 2024\\n</td>\n",
       "    </tr>\n",
       "  </tbody>\n",
       "</table>\n",
       "</div>"
      ],
      "text/plain": [
       "                                     file_name  \\\n",
       "0             Duaa Hilal Al-Hashmi CV 2025.pdf   \n",
       "1                  Nusiba_Alnabhani_cv (1).pdf   \n",
       "2  Janna Khalid Al Balushi Resume 14-09-25.pdf   \n",
       "\n",
       "                                 name                      email  \\\n",
       "0                Duaa Hilal Al-hashmi        Duaahil44@gmail.com   \n",
       "1  Bachelor’s In Information Security  nusibaalnabhani@gmail.com   \n",
       "2             Janna Khalid Al Balushi  janna.balushi@outlook.com   \n",
       "\n",
       "           phone                                             linkedin  \\\n",
       "0  +968 91799668                                                        \n",
       "1  +968-98995282  https://www.linkedin.com/in/com/in/nusiba-alnabhani   \n",
       "2  +968 79141663                  https://www.linkedin.com/in/Profile   \n",
       "\n",
       "                                                        github portfolio  \\\n",
       "0  https://github.com/Duaa3/Hotel-Managements-Project-Frontend             \n",
       "1                                                                          \n",
       "2                                   https://github.com/Profile             \n",
       "\n",
       "                                                                                                                                                                                                                             other_links  \\\n",
       "0  https://github.com/Duaa3/Hotel-Managements-Project-Backend-; https://www.researchgate.net/publication/369452982_Date_fruit_classification_and_sorting_system_using_Artificial_; https://ijrar.org/viewfulltext.php?&p_id=IJRAR21D2332   \n",
       "1                                                                                                                                                                                                                                          \n",
       "2                                                                                                                                                                                                                                          \n",
       "\n",
       "                                                                                                                                                                                                                                                                                                                                                                                                                                                                                                                                                                                                                                                                                                                                                                                                                                                                                                                                                                                                                                                                                                                                                                                                                                                                                                                                                                                                                                                                                                                                                                                                                                                                                                                                                                                                                                                                                                                                                                                                                                                                                                                                                                                                                                                                                                                                                                                                                                                                                                                                                                                                                                                                                                                                                                                                                                                                                                                                                                                                                                                                                                                                                                                                                                                                                                                                                                                                                                                                                                                                                                                                                                                                                                                                                                                                                                                                                                                                                                                                                                                                                                                                                                                                                                                                                                                                                                                                                                                                                                                                                                                                                                                                                                                                                                                                                                                                                                                                                                                                                                                                                                                                                                                                                                                                                                                                                                                                                                                                                                                                                                                                                                                                                                                                                                                                                                                                       raw_text  \n",
       "0  Duaa Hilal Al-Hashmi\\nAl Batinah North | P: +968 91799668 | Duaahil44@gmail.com\\nEDUCATION\\nCODELINE\\nData Science\\nGraduation Date: October 2025\\nSAUDI DIGITAL ACADEMY\\nFullStack Java Web Development Bootcamp\\nGraduation Date: December 2023\\nUNIVERSITY OF TECHNOLOGY AND APPLIED SCIENCES\\nBachelor of Electronics and Telecommunications Engineering\\nCumulative GPA: 3.2/4.0, Graduation Date: August 2022\\nEXPERIENCE\\nTelecommunications Regulatory Authority.\\nMuscat —Internship\\n● Completed the Nafath Training Program, acquiring expertise in programming languages (Java, JavaScript, Python, SQL),\\nframeworks (Spring Boot, Swagger-UI, Angular), and software design principles (RESTful APIs, SOLID)\\n● Applied skills in debugging tools (Postman, IntelliJ Debugger), IDEs (IntelliJ IDEA, Visual Studio Code), and comprehensive\\nconcepts (authentication, network protocols, web security) within a structured 3-tier application framework\\n● Gained experience in version control systems such as Git and GitHub for collaborative code management, adeptly employing\\nAgile methodologies like Scrum, Trello, and Slack for efficient project organization and communication\\nUNIVERSITY OF TECHNOLOGY AND APPLIED SCIENCES\\nAl Musanna— Research Assistant\\nNovember 2021- August 2022\\n● Drove the design and development of an IoT-based system for post-harvest data collection in Oman\\n● Implemented image processing and AI techniques; successful collaboration with a diverse team of researchers improved the\\nsystem, contributing to socioeconomic development\\n● Played an integral role in co-authoring and publishing two highly impactful research papers\\nSAID BIN SULTAN NAVAL BASE, ROYAL NAVY OF OMAN\\nAl Musanna —Internship\\nJune 2022- July 2022\\n● Engaged in a comprehensive 40-day internship at Said Bin Sultan Naval Base, providing input and contributing to\\nworkshops aimed at enhancing health and safety practices\\n● Optimized radar systems, improving intercom efficiency, advancing ESM and ECM capabilities\\n● Streamlined external communication protocols, enhanced network, and software performance implemented PCB\\nenhancements, refined naval calibration procedures, and drove innovation in underwater systems\\nPROJECTS\\nSMART OFFICE PLANNER\\nJuly 2025\\n● Hybrid‑work optimization prototype: rule‑based + ML scheduling, seat‑map visualization, capacity limits, preference\\nmatching.\\n● Built with Python, Streamlit UI, FastAPI services, and Supabase/Postgres; included simple auth and CRUD.\\nHOTEL MANAGEMENT SYSTEM\\nNovember 2023\\n● Engineered and deployed a robust RESTful API for a Hotel Management System, elevating data retrieval and processing\\nefficiency by 50% for enhanced user experience and system performance\\n● Enabled seamless hotel and room creation, guest registration, reservation booking, and staff management, fostering a 30%\\nimprovement in operational efficiency\\n● Leveraged Java, Spring Boot, Spring Security, and MySQL for system development, resulting in a 20% decrease in feature\\ndevelopment time and quicker deployment\\n● GitHub Repository For the Frontend: Link: https://github.com/Duaa3/Hotel-Managements-Project-Frontend\\n● GitHub Repository For the Backend: Link: https://github.com/Duaa3/Hotel-Managements-Project-Backend-\\nDEEP LEARNING BASED DATE FRUIT CLASSIFICATION SYSTEM\\nApril 2022\\n● Collaborated with a team of 3 students to develop a date classification method using teachable machine and MIT App for\\nfruit identification\\n● Implemented JavaScript and deep learning techniques to analyze data from Saudi Arabian and Omani farms, achieving 95%\\naccuracy; enabled data-driven decision-making for optimizing agricultural productivity and resource allocation\\nPUBLICATION\\nRESUME WORDED FINANCE SOCIETY\\nDecember 2022\\n● [Link:https://www.researchgate.net/publication/369452982_Date_fruit_classification_and_sorting_system_using_Artificial_\\nIntelligence_ Application_of_Transfer_Learning]\\nMULTICLASS FRUIT CLASSIFICATION MODEL USING DEEP LEARNING\\nDecember 2021\\n● [Link: https://ijrar.org/viewfulltext.php?&p_id=IJRAR21D2332]\\nADDITIONAL\\nCertifications & Training:\\nAI Empowered Youth Program — Omantel 2025\\nIAIDL Essentials — International AI Driving License (IDEL), 2025\\nHuawei HCIA‑AI Training (Oman), 2025\\nHuawei Advanced Training: (China) AI Internship Professional Practice 2025\\nHCIA — Cloud Computing (2025)\\nAwards:\\nFirst Place — CODELINE Hackathon 2025 (Smart Office Planner)\\nHonor Student, University of Technology & Applied Sciences\\nFirst Prize — Seventh Engineering Week (May 2022), UTAS Al Musanna\\nBEST PAPER — WCASET 2022 (IFERP)\\nTechnical Skills\\n● Programming & Data Science: Python, NumPy, Pandas, scikit-learn, XGBoost, TensorFlow/Keras (foundations),\\nBayesian networks (pgmpy), statistical modeling, class imbalance handling.\\n● Machine Learning & Analytics: Exploratory data analysis (EDA), data cleaning, feature engineering, performance\\nevaluation (Accuracy, F1-score, ROC-AUC, RMSE, MAE, R²).\\n● Computer Vision: OpenCV, image preprocessing and enhancement (histogram equalization, contrast adjustment).\\n● Backend & APIs: FastAPI, Uvicorn, RESTful design, authentication, Supabase (Postgres, storage).\\n● Web Development: Java, Spring Boot, Angular, Bootstrap; full-stack application development with CI practices.\\n● Databases & Data Tools: SQL (PostgreSQL, MySQL), Supabase, web scraping (BeautifulSoup, Selenium).\\n● DevOps & Infrastructure: Docker (containerization), Linux CLI, Git/GitHub version control, basic CI/CD pipelines.\\n● Visualization & Reporting: Matplotlib, Plotly, Jupyter Notebooks, Markdown documentation.\\n● Languages: Fluent in Arabic & English.\\n  \n",
       "1                                                                                                                                                                                                                                                                                                                                                                                                                                                                                                                                                                                                                                                                                                                                                                                                                                                                                                                                                                                                                                                                                                                                                                                                                                                                                                                                                                                                                                                                                                                                                                                                                                                                                                                                                                                                                                                                                                                                                                                                                                                                                                                                                                                                                                                        N U S I B A M U S L I M J U M M A A L N A B H A N I\\nUniversity of Technology and Applied Sciences, 2019-2023\\nBachelor’s in information security\\nMuscat, Oman | +968-98995282 | nusibaalnabhani@gmail.com |linkedin.com/in/nusiba-alnabhani\\nPROFILE\\nInformation Security graduate with hands on training in cybersecurity, data analysis, and artificial intelligence. Experienced\\nin applying technical skills to real world projects, including data preprocessing, network setup, and customer protection\\nservices. Eager to contribute to organizational growth by leveraging technical expertise and practical experience.\\nEXPERIENCES\\nOMANTAL - CODELINE\\nJanuary, 2025 (present)\\nConducted exploratory data analysis (EDA) on datasets with 50k+ entries using Python (Pandas, NumPy, Matplotlib).\\nApplied feature engineering techniques to improve ML model performance by 20%.\\nTrained and evaluated machine learning models using scikit-learn, achieving consistent accuracy improvements.\\nGained hands-on experience in SQL for data manipulation and automation tasks.\\nEXCEED IT SERVICES AND TRAINING COMPANY\\nMarch, 2024 - August, 2024\\nCompleted 6 intensive courses in Artificial Intelligence, Python, NLP, and Computer Vision.\\nBuilt and tested machine learning models on sample datasets, achieving 85% accuracy in classification tasks.\\nApplied Azure ML for model deployment and gained practical experience with real-world AI workflows.\\nTHE PUBLIC AUTHORITY FOR CUSTOMER PROTECTION\\nNovember,2023 - December, 2023\\nDrafted and processed 100+ memos, letters, and official communications.\\nRegistered and tracked 200+ incoming and outgoing documents using archiving systems.\\nDesigned a document classification and retention system to improve record accessibility by 30%.\\nInvestigated and reported on customer complaints, contributing to 10+ resolved cases.\\nCreated press releases and promotional posters using Canva, enhancing media visibility.\\nMINISTY OF INFORMATION\\nJun, 2022 - Jul, 2022\\nSupported IT team in activating Windows licenses and troubleshooting systems.\\nInstalled antivirus software across 50+ devices, improving endpoint security.\\nConnected client and server machines to secure networks, reducing downtime by 15%.\\nPracticed software development concepts using Python, Java, and Flutter.\\nCERTIFICATIONS\\nInternational AI Driving License Certificate, 2025\\nMicrosoft Azure AI Fundamentals (AI-900), 2024\\nScrum Fundamentals Certified, 2024\\nPhotoshop from Scratch Workshop, 2023\\nInternet of Things and its Applications, 2022\\nCyber Security Certified, 2022\\nTECHNICAL SKILLS PERSONAL SKILLS\\nMicrosoft Office Effective communication with cross-functional\\nCisco Packet Tracer teams.\\nLinux (Kali) Report writing and documentation.\\nProgramming Languages: Python, Java Adaptability in fast-paced technical\\nenvironments.\\nData-driven decision making.\\nACHIEVEMENTS\\n“Photoshop from scratch” workshop 2023\\nParticipation in the membership of the Student Advisory Council.\\nParticipate in the activities of the \"Ghaith\" volunteer team.\\nParticipation in the youth leadership camp in October. 2022\\nParticipated in the fifth debate competition organized by the university in October.\\n\"Leaders\" training program organized by the university branch September.\\nParticipation in the Rahal Hackathon for tourism projects, which was implemented by the \"Ghobsha\" team in August.\\nParticipated in the fourth debate club forum in March.\\n\"3D printer\" workshop in February.\\n  \n",
       "2                                                                                                                                                                                                                                                                                                                                                                                                                                                                                                                                                                                                                                                                                                                                                                            Janna Khalid Al Balushi\\njanna.balushi@outlook.com | +968 79141663 | Oman, Muscat | LinkedIn Profile | GitHub Profile\\nProfessional Summary\\nAspiring Data Scientist with hands-on experience as a Data Analyst on a national project. Passionate about bridging the\\ngap between business needs and technological solutions. My commitment to continuously learning drives me to constantly\\nhone my skills in agile methodologies, data science and AI/ML, empowering me to harness cutting-edge solutions that\\ndrive impactful business outcomes\\nEducational Background\\nBachelor of Technology, Electronics & Telecommunications Engineering 2018 – 2024\\nUniversity of Technology & Applied Sciences (UTAS) Muscat, Oman\\nGPA: 3.13/4\\nCapstone Project: School Bus Security System\\n• Led the team towards achieving projects’ objectives.\\n• Implemented and troubleshooted an IoT-based circuit.\\n• Participated in the Traffic Awareness Week Event organized by the Oman Royal Army.\\nProfessional Experience\\nAI Empowered Youth Associate, Omantel Jan 2025 – Present\\n• Assigned as Scrum Master leading the team in agile scrum practices, facilitating meetings, and enhancing team\\ncollaboration.\\n• Pursuing a comprehensive understanding and application of data science concepts.\\n• Gaining hands-on experience in programming with Python and SQL for data manipulation.\\n• Familiar with the lifecycle of data science, from data collection to model evaluation and deployment.\\n• Conducted data preprocessing and exploratory data analysis (EDA) using Python libraries (Pandas, NumPy, Matplotlib,\\nSeaborn) to clean, transform, and visualize datasets.\\n• Applied feature engineering techniques such as encoding, scaling, and interaction term creation to optimize model\\ninputs and improve performance.\\n• Trained and evaluated machine learning models using scikit-learn.\\nData Leaders Associate, Omantel Academy Jun 2024 – Dec 2024\\n• Proven proficiency in using MS Excel for data analysis.\\n• Developed expertise in data cleansing, data analysis, and data Visualization.\\n• Contributed to The National System for Planning, Monitoring, and Evaluation project in collaboration with General\\nSecretariat of the Council of Minsters and Omantel.\\nPeople Operations Trainee, Omantel Mar 2024 – May 2024\\n• Planned and managed the events that occurred in Omantel.\\n• Communicated and negotiated with business owners/managers to ensure the delivery of high-quality products and\\nservices at optimal cost.\\n• Maintained comprehensive logistics for events, ensuring seamless coordination and execution.\\n• Collaborated with cross-functional teams such as Internal Communications, HQ Experience, and Training to meet the\\nKPIs of the events.\\nProjects\\nThe National System for Planning, Monitoring, and Evaluation July 2024 – April 2025\\nGeneral Secretariat of the Council of Ministers\\n• Conducted comprehensive data analysis and cleansing to enhance data integrity.\\n• Managed and organized data, ensuring accessibility for the team.\\n• Executed efficient conversion of files to required formats to maintain data usability.\\n• Liaised with governmental institutions to facilitate seamless database communication and collaboration.\\n• Evaluated adherence of governmental institutions to required templates, ensuring standards were met.\\nPower BI Dashboard for Waggle Startup, Udacity Dec 2024\\n• Implemented a Power BI report for Waggle, detailed comparisons between Lapcat prototypes and successful Lapdog\\ndevices to assess product viability.\\n• Analyzed data from 1,000 prototypes and then visualized findings to answer executive queries.\\n• Ensured all visuals and graphics in the Power BI report conformed to Waggle's brand guidelines, incorporating official\\ncolor palettes and logos, leading to a cohesive presentation.\\n• Enhanced report usability with interactive slicers and demographic visuals, enabling executives and product teams to\\ncustomize and explore data insights independently.\\nPneumonia Detection Model Using AWS Rekognition AutoML, Udacity Oct 2024\\n• Designed and evaluated multiple machine learning models using AWS Rekognition AutoML to classify pediatric chest\\nX-rays for pneumonia detection.\\n• Built four model variants to analyze the impact of data quality, class imbalance, and label accuracy on model\\nperformance.\\n• Assessed model efficacy using key performance metrics including precision, recall, and confusion matrices across\\nbinary and multiclass classifications.\\n• Conducted experiments with balanced vs. unbalanced datasets and simulated label noise to evaluate real-world data\\nchallenges.\\nCertifications\\nBusiness Intelligence and Data Analyst (BIDA), CFI July 2025\\nData Analysis and Visualization with Power BI, Udacity Apr 2025\\nAI Product Manager, Udacity Nov 2024\\nCertified Scrum Product Owner (CSPO), Scrum Alliance Jul 2024\\nCertified ScrumMaster (CSM), Scrum Alliance Jun 2024\\n  "
      ]
     },
     "execution_count": 28,
     "metadata": {},
     "output_type": "execute_result"
    }
   ],
   "source": [
    "rows = []\n",
    "for p in pdfs:\n",
    "    text = extract_text_from_pdf(str(p))\n",
    "\n",
    "    if SAVE_RAW_TEXT:\n",
    "        try:\n",
    "            (p.parent / (p.stem + \".txt\")).write_text(text, encoding=\"utf-8\", errors=\"ignore\")\n",
    "        except Exception as e:\n",
    "            if VERBOSE: print(f\"[warn] cannot save raw text for {p.name}: {e}\")\n",
    "\n",
    "    emails = EMAIL_RE.findall(text)\n",
    "    phones = PHONE_RE.findall(text)\n",
    "    links = LINK_RE.findall(text)\n",
    "\n",
    "    linkedin = extract_linkedin(text, links)\n",
    "    github = extract_github(text, links)\n",
    "    portfolio = next((u for u in links if any(k in u.lower() for k in [\"portfolio\",\"behance.net\",\"dribbble.com\",\"notion.site\",\"about.me\"])), \"\")\n",
    "    other_links = [re.sub(r\"[\\)\\]]+$\", \"\", u) for u in links if u not in {linkedin, github, portfolio}]\n",
    "\n",
    "    m = re.search(r\"(?i)\\bname\\s*[:\\-]\\s*([^\\n]+)\", text)\n",
    "    name = clean_line(m.group(1)) if m else guess_name_from_top(text)\n",
    "\n",
    "    rows.append({\n",
    "        \"file_name\": p.name,\n",
    "        \"name\": name,\n",
    "        \"email\": emails[0] if emails else \"\",\n",
    "        \"phone\": phones[0] if phones else \"\",\n",
    "        \"linkedin\": linkedin,\n",
    "        \"github\": github,\n",
    "        \"portfolio\": portfolio,\n",
    "        \"other_links\": \"; \".join(other_links[:8]),\n",
    "        \"raw_text\": text\n",
    "    })\n",
    "\n",
    "df = pd.DataFrame(rows, columns=[\"file_name\",\"name\",\"email\",\"phone\",\"linkedin\",\"github\",\"portfolio\",\"other_links\",\"raw_text\"])\n",
    "print(f\"Extracted {len(df)} row(s).\")\n",
    "df.head(10)\n"
   ]
  },
  {
   "cell_type": "markdown",
   "id": "cad324e8",
   "metadata": {},
   "source": [
    "## 6) Display the Full DataFrame (scrollable)"
   ]
  },
  {
   "cell_type": "code",
   "execution_count": 29,
   "id": "9a852e2f",
   "metadata": {},
   "outputs": [
    {
     "data": {
      "text/html": [
       "\n",
       "<div style=\"max-height: 600px; overflow: auto; border: 1px solid #ccc; padding: 10px; white-space: nowrap;\">\n",
       "<table border=\"1\" class=\"dataframe\">\n",
       "  <thead>\n",
       "    <tr style=\"text-align: right;\">\n",
       "      <th>file_name</th>\n",
       "      <th>name</th>\n",
       "      <th>email</th>\n",
       "      <th>phone</th>\n",
       "      <th>linkedin</th>\n",
       "      <th>github</th>\n",
       "      <th>portfolio</th>\n",
       "      <th>other_links</th>\n",
       "      <th>raw_text</th>\n",
       "    </tr>\n",
       "  </thead>\n",
       "  <tbody>\n",
       "    <tr>\n",
       "      <td>Duaa Hilal Al-Hashmi CV 2025.pdf</td>\n",
       "      <td>Duaa Hilal Al-hashmi</td>\n",
       "      <td>Duaahil44@gmail.com</td>\n",
       "      <td>+968 91799668</td>\n",
       "      <td></td>\n",
       "      <td>https://github.com/Duaa3/Hotel-Managements-Project-Frontend</td>\n",
       "      <td></td>\n",
       "      <td>https://github.com/Duaa3/Hotel-Managements-Project-Backend-; https://www.researchgate.net/publication/369452982_Date_fruit_classification_and_sorting_system_using_Artificial_; https://ijrar.org/viewfulltext.php?&p_id=IJRAR21D2332</td>\n",
       "      <td>Duaa Hilal Al-Hashmi\\nAl Batinah North | P: +968 91799668 | Duaahil44@gmail.com\\nEDUCATION\\nCODELINE\\nData Science\\nGraduation Date: October 2025\\nSAUDI DIGITAL ACADEMY\\nFullStack Java Web Development Bootcamp\\nGraduation Date: December 2023\\nUNIVERSITY OF TECHNOLOGY AND APPLIED SCIENCES\\nBachelor of Electronics and Telecommunications Engineering\\nCumulative GPA: 3.2/4.0, Graduation Date: August 2022\\nEXPERIENCE\\nTelecommunications Regulatory Authority.\\nMuscat —Internship\\n● Completed the Nafath Training Program, acquiring expertise in programming languages (Java, JavaScript, Python, SQL),\\nframeworks (Spring Boot, Swagger-UI, Angular), and software design principles (RESTful APIs, SOLID)\\n● Applied skills in debugging tools (Postman, IntelliJ Debugger), IDEs (IntelliJ IDEA, Visual Studio Code), and comprehensive\\nconcepts (authentication, network protocols, web security) within a structured 3-tier application framework\\n● Gained experience in version control systems such as Git and GitHub for collaborative code management, adeptly employing\\nAgile methodologies like Scrum, Trello, and Slack for efficient project organization and communication\\nUNIVERSITY OF TECHNOLOGY AND APPLIED SCIENCES\\nAl Musanna— Research Assistant\\nNovember 2021- August 2022\\n● Drove the design and development of an IoT-based system for post-harvest data collection in Oman\\n● Implemented image processing and AI techniques; successful collaboration with a diverse team of researchers improved the\\nsystem, contributing to socioeconomic development\\n● Played an integral role in co-authoring and publishing two highly impactful research papers\\nSAID BIN SULTAN NAVAL BASE, ROYAL NAVY OF OMAN\\nAl Musanna —Internship\\nJune 2022- July 2022\\n● Engaged in a comprehensive 40-day internship at Said Bin Sultan Naval Base, providing input and contributing to\\nworkshops aimed at enhancing health and safety practices\\n● Optimized radar systems, improving intercom efficiency, advancing ESM and ECM capabilities\\n● Streamlined external communication protocols, enhanced network, and software performance implemented PCB\\nenhancements, refined naval calibration procedures, and drove innovation in underwater systems\\nPROJECTS\\nSMART OFFICE PLANNER\\nJuly 2025\\n● Hybrid‑work optimization prototype: rule‑based + ML scheduling, seat‑map visualization, capacity limits, preference\\nmatching.\\n● Built with Python, Streamlit UI, FastAPI services, and Supabase/Postgres; included simple auth and CRUD.\\nHOTEL MANAGEMENT SYSTEM\\nNovember 2023\\n● Engineered and deployed a robust RESTful API for a Hotel Management System, elevating data retrieval and processing\\nefficiency by 50% for enhanced user experience and system performance\\n● Enabled seamless hotel and room creation, guest registration, reservation booking, and staff management, fostering a 30%\\nimprovement in operational efficiency\\n● Leveraged Java, Spring Boot, Spring Security, and MySQL for system development, resulting in a 20% decrease in feature\\ndevelopment time and quicker deployment\\n● GitHub Repository For the Frontend: Link: https://github.com/Duaa3/Hotel-Managements-Project-Frontend\\n● GitHub Repository For the Backend: Link: https://github.com/Duaa3/Hotel-Managements-Project-Backend-\\nDEEP LEARNING BASED DATE FRUIT CLASSIFICATION SYSTEM\\nApril 2022\\n● Collaborated with a team of 3 students to develop a date classification method using teachable machine and MIT App for\\nfruit identification\\n● Implemented JavaScript and deep learning techniques to analyze data from Saudi Arabian and Omani farms, achieving 95%\\naccuracy; enabled data-driven decision-making for optimizing agricultural productivity and resource allocation\\nPUBLICATION\\nRESUME WORDED FINANCE SOCIETY\\nDecember 2022\\n● [Link:https://www.researchgate.net/publication/369452982_Date_fruit_classification_and_sorting_system_using_Artificial_\\nIntelligence_ Application_of_Transfer_Learning]\\nMULTICLASS FRUIT CLASSIFICATION MODEL USING DEEP LEARNING\\nDecember 2021\\n● [Link: https://ijrar.org/viewfulltext.php?&p_id=IJRAR21D2332]\\nADDITIONAL\\nCertifications & Training:\\nAI Empowered Youth Program — Omantel 2025\\nIAIDL Essentials — International AI Driving License (IDEL), 2025\\nHuawei HCIA‑AI Training (Oman), 2025\\nHuawei Advanced Training: (China) AI Internship Professional Practice 2025\\nHCIA — Cloud Computing (2025)\\nAwards:\\nFirst Place — CODELINE Hackathon 2025 (Smart Office Planner)\\nHonor Student, University of Technology & Applied Sciences\\nFirst Prize — Seventh Engineering Week (May 2022), UTAS Al Musanna\\nBEST PAPER — WCASET 2022 (IFERP)\\nTechnical Skills\\n● Programming & Data Science: Python, NumPy, Pandas, scikit-learn, XGBoost, TensorFlow/Keras (foundations),\\nBayesian networks (pgmpy), statistical modeling, class imbalance handling.\\n● Machine Learning & Analytics: Exploratory data analysis (EDA), data cleaning, feature engineering, performance\\nevaluation (Accuracy, F1-score, ROC-AUC, RMSE, MAE, R²).\\n● Computer Vision: OpenCV, image preprocessing and enhancement (histogram equalization, contrast adjustment).\\n● Backend & APIs: FastAPI, Uvicorn, RESTful design, authentication, Supabase (Postgres, storage).\\n● Web Development: Java, Spring Boot, Angular, Bootstrap; full-stack application development with CI practices.\\n● Databases & Data Tools: SQL (PostgreSQL, MySQL), Supabase, web scraping (BeautifulSoup, Selenium).\\n● DevOps & Infrastructure: Docker (containerization), Linux CLI, Git/GitHub version control, basic CI/CD pipelines.\\n● Visualization & Reporting: Matplotlib, Plotly, Jupyter Notebooks, Markdown documentation.\\n● Languages: Fluent in Arabic & English.\\n</td>\n",
       "    </tr>\n",
       "    <tr>\n",
       "      <td>Nusiba_Alnabhani_cv (1).pdf</td>\n",
       "      <td>Bachelor’s In Information Security</td>\n",
       "      <td>nusibaalnabhani@gmail.com</td>\n",
       "      <td>+968-98995282</td>\n",
       "      <td>https://www.linkedin.com/in/com/in/nusiba-alnabhani</td>\n",
       "      <td></td>\n",
       "      <td></td>\n",
       "      <td></td>\n",
       "      <td>N U S I B A M U S L I M J U M M A A L N A B H A N I\\nUniversity of Technology and Applied Sciences, 2019-2023\\nBachelor’s in information security\\nMuscat, Oman | +968-98995282 | nusibaalnabhani@gmail.com |linkedin.com/in/nusiba-alnabhani\\nPROFILE\\nInformation Security graduate with hands on training in cybersecurity, data analysis, and artificial intelligence. Experienced\\nin applying technical skills to real world projects, including data preprocessing, network setup, and customer protection\\nservices. Eager to contribute to organizational growth by leveraging technical expertise and practical experience.\\nEXPERIENCES\\nOMANTAL - CODELINE\\nJanuary, 2025 (present)\\nConducted exploratory data analysis (EDA) on datasets with 50k+ entries using Python (Pandas, NumPy, Matplotlib).\\nApplied feature engineering techniques to improve ML model performance by 20%.\\nTrained and evaluated machine learning models using scikit-learn, achieving consistent accuracy improvements.\\nGained hands-on experience in SQL for data manipulation and automation tasks.\\nEXCEED IT SERVICES AND TRAINING COMPANY\\nMarch, 2024 - August, 2024\\nCompleted 6 intensive courses in Artificial Intelligence, Python, NLP, and Computer Vision.\\nBuilt and tested machine learning models on sample datasets, achieving 85% accuracy in classification tasks.\\nApplied Azure ML for model deployment and gained practical experience with real-world AI workflows.\\nTHE PUBLIC AUTHORITY FOR CUSTOMER PROTECTION\\nNovember,2023 - December, 2023\\nDrafted and processed 100+ memos, letters, and official communications.\\nRegistered and tracked 200+ incoming and outgoing documents using archiving systems.\\nDesigned a document classification and retention system to improve record accessibility by 30%.\\nInvestigated and reported on customer complaints, contributing to 10+ resolved cases.\\nCreated press releases and promotional posters using Canva, enhancing media visibility.\\nMINISTY OF INFORMATION\\nJun, 2022 - Jul, 2022\\nSupported IT team in activating Windows licenses and troubleshooting systems.\\nInstalled antivirus software across 50+ devices, improving endpoint security.\\nConnected client and server machines to secure networks, reducing downtime by 15%.\\nPracticed software development concepts using Python, Java, and Flutter.\\nCERTIFICATIONS\\nInternational AI Driving License Certificate, 2025\\nMicrosoft Azure AI Fundamentals (AI-900), 2024\\nScrum Fundamentals Certified, 2024\\nPhotoshop from Scratch Workshop, 2023\\nInternet of Things and its Applications, 2022\\nCyber Security Certified, 2022\\nTECHNICAL SKILLS PERSONAL SKILLS\\nMicrosoft Office Effective communication with cross-functional\\nCisco Packet Tracer teams.\\nLinux (Kali) Report writing and documentation.\\nProgramming Languages: Python, Java Adaptability in fast-paced technical\\nenvironments.\\nData-driven decision making.\\nACHIEVEMENTS\\n“Photoshop from scratch” workshop 2023\\nParticipation in the membership of the Student Advisory Council.\\nParticipate in the activities of the \"Ghaith\" volunteer team.\\nParticipation in the youth leadership camp in October. 2022\\nParticipated in the fifth debate competition organized by the university in October.\\n\"Leaders\" training program organized by the university branch September.\\nParticipation in the Rahal Hackathon for tourism projects, which was implemented by the \"Ghobsha\" team in August.\\nParticipated in the fourth debate club forum in March.\\n\"3D printer\" workshop in February.\\n</td>\n",
       "    </tr>\n",
       "    <tr>\n",
       "      <td>Janna Khalid Al Balushi Resume 14-09-25.pdf</td>\n",
       "      <td>Janna Khalid Al Balushi</td>\n",
       "      <td>janna.balushi@outlook.com</td>\n",
       "      <td>+968 79141663</td>\n",
       "      <td>https://www.linkedin.com/in/Profile</td>\n",
       "      <td>https://github.com/Profile</td>\n",
       "      <td></td>\n",
       "      <td></td>\n",
       "      <td>Janna Khalid Al Balushi\\njanna.balushi@outlook.com | +968 79141663 | Oman, Muscat | LinkedIn Profile | GitHub Profile\\nProfessional Summary\\nAspiring Data Scientist with hands-on experience as a Data Analyst on a national project. Passionate about bridging the\\ngap between business needs and technological solutions. My commitment to continuously learning drives me to constantly\\nhone my skills in agile methodologies, data science and AI/ML, empowering me to harness cutting-edge solutions that\\ndrive impactful business outcomes\\nEducational Background\\nBachelor of Technology, Electronics & Telecommunications Engineering 2018 – 2024\\nUniversity of Technology & Applied Sciences (UTAS) Muscat, Oman\\nGPA: 3.13/4\\nCapstone Project: School Bus Security System\\n• Led the team towards achieving projects’ objectives.\\n• Implemented and troubleshooted an IoT-based circuit.\\n• Participated in the Traffic Awareness Week Event organized by the Oman Royal Army.\\nProfessional Experience\\nAI Empowered Youth Associate, Omantel Jan 2025 – Present\\n• Assigned as Scrum Master leading the team in agile scrum practices, facilitating meetings, and enhancing team\\ncollaboration.\\n• Pursuing a comprehensive understanding and application of data science concepts.\\n• Gaining hands-on experience in programming with Python and SQL for data manipulation.\\n• Familiar with the lifecycle of data science, from data collection to model evaluation and deployment.\\n• Conducted data preprocessing and exploratory data analysis (EDA) using Python libraries (Pandas, NumPy, Matplotlib,\\nSeaborn) to clean, transform, and visualize datasets.\\n• Applied feature engineering techniques such as encoding, scaling, and interaction term creation to optimize model\\ninputs and improve performance.\\n• Trained and evaluated machine learning models using scikit-learn.\\nData Leaders Associate, Omantel Academy Jun 2024 – Dec 2024\\n• Proven proficiency in using MS Excel for data analysis.\\n• Developed expertise in data cleansing, data analysis, and data Visualization.\\n• Contributed to The National System for Planning, Monitoring, and Evaluation project in collaboration with General\\nSecretariat of the Council of Minsters and Omantel.\\nPeople Operations Trainee, Omantel Mar 2024 – May 2024\\n• Planned and managed the events that occurred in Omantel.\\n• Communicated and negotiated with business owners/managers to ensure the delivery of high-quality products and\\nservices at optimal cost.\\n• Maintained comprehensive logistics for events, ensuring seamless coordination and execution.\\n• Collaborated with cross-functional teams such as Internal Communications, HQ Experience, and Training to meet the\\nKPIs of the events.\\nProjects\\nThe National System for Planning, Monitoring, and Evaluation July 2024 – April 2025\\nGeneral Secretariat of the Council of Ministers\\n• Conducted comprehensive data analysis and cleansing to enhance data integrity.\\n• Managed and organized data, ensuring accessibility for the team.\\n• Executed efficient conversion of files to required formats to maintain data usability.\\n• Liaised with governmental institutions to facilitate seamless database communication and collaboration.\\n• Evaluated adherence of governmental institutions to required templates, ensuring standards were met.\\nPower BI Dashboard for Waggle Startup, Udacity Dec 2024\\n• Implemented a Power BI report for Waggle, detailed comparisons between Lapcat prototypes and successful Lapdog\\ndevices to assess product viability.\\n• Analyzed data from 1,000 prototypes and then visualized findings to answer executive queries.\\n• Ensured all visuals and graphics in the Power BI report conformed to Waggle's brand guidelines, incorporating official\\ncolor palettes and logos, leading to a cohesive presentation.\\n• Enhanced report usability with interactive slicers and demographic visuals, enabling executives and product teams to\\ncustomize and explore data insights independently.\\nPneumonia Detection Model Using AWS Rekognition AutoML, Udacity Oct 2024\\n• Designed and evaluated multiple machine learning models using AWS Rekognition AutoML to classify pediatric chest\\nX-rays for pneumonia detection.\\n• Built four model variants to analyze the impact of data quality, class imbalance, and label accuracy on model\\nperformance.\\n• Assessed model efficacy using key performance metrics including precision, recall, and confusion matrices across\\nbinary and multiclass classifications.\\n• Conducted experiments with balanced vs. unbalanced datasets and simulated label noise to evaluate real-world data\\nchallenges.\\nCertifications\\nBusiness Intelligence and Data Analyst (BIDA), CFI July 2025\\nData Analysis and Visualization with Power BI, Udacity Apr 2025\\nAI Product Manager, Udacity Nov 2024\\nCertified Scrum Product Owner (CSPO), Scrum Alliance Jul 2024\\nCertified ScrumMaster (CSM), Scrum Alliance Jun 2024\\n</td>\n",
       "    </tr>\n",
       "  </tbody>\n",
       "</table>\n",
       "</div>\n"
      ],
      "text/plain": [
       "<IPython.core.display.HTML object>"
      ]
     },
     "metadata": {},
     "output_type": "display_data"
    }
   ],
   "source": [
    "\n",
    "pd.set_option(\"display.max_columns\", None)\n",
    "pd.set_option(\"display.max_colwidth\", None)\n",
    "\n",
    "html_table = df.to_html(escape=False, index=False)\n",
    "display(HTML(f'''\n",
    "<div style=\"max-height: 600px; overflow: auto; border: 1px solid #ccc; padding: 10px; white-space: nowrap;\">\n",
    "{html_table}\n",
    "</div>\n",
    "'''))\n"
   ]
  },
  {
   "cell_type": "markdown",
   "id": "02e59b86",
   "metadata": {},
   "source": [
    "## 7) Save to CSV"
   ]
  },
  {
   "cell_type": "code",
   "execution_count": 30,
   "id": "ceb0217a",
   "metadata": {},
   "outputs": [
    {
     "name": "stdout",
     "output_type": "stream",
     "text": [
      "✅ Data saved to: C:\\Users\\bbuser\\Downloads\\cv_data_extracted_final.csv\n"
     ]
    }
   ],
   "source": [
    "\n",
    "df.to_csv(OUTPUT_CSV, index=False, encoding=\"utf-8\")\n",
    "print(f\"✅ Data saved to: {OUTPUT_CSV}\")\n"
   ]
  },
  {
   "cell_type": "code",
   "execution_count": null,
   "id": "0eda0c9f-749b-46a4-88b8-483b8638701c",
   "metadata": {},
   "outputs": [],
   "source": []
  }
 ],
 "metadata": {
  "kernelspec": {
   "display_name": "Python [conda env:base] *",
   "language": "python",
   "name": "conda-base-py"
  },
  "language_info": {
   "codemirror_mode": {
    "name": "ipython",
    "version": 3
   },
   "file_extension": ".py",
   "mimetype": "text/x-python",
   "name": "python",
   "nbconvert_exporter": "python",
   "pygments_lexer": "ipython3",
   "version": "3.13.5"
  }
 },
 "nbformat": 4,
 "nbformat_minor": 5
}
